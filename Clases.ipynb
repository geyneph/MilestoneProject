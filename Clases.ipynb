{
 "cells": [
  {
   "cell_type": "markdown",
   "id": "db0cb230",
   "metadata": {},
   "source": [
    "# Inicio del deck de cartas con las clases\n",
    "carta: tiene palo, rango, valor\n"
   ]
  },
  {
   "cell_type": "code",
   "execution_count": 12,
   "id": "42e6f1f1",
   "metadata": {},
   "outputs": [],
   "source": [
    "#importamos librerias\n",
    "import random\n",
    "#Iniciaremos desarrollando la clase carta, para posterirmente desarrollar la clase baraja\n",
    "dic_valores ={\n",
    "        'dos': 2,\n",
    "        'tres': 3,\n",
    "        'cuatro': 4,\n",
    "        'cinco': 5,\n",
    "        'seis': 6,\n",
    "        'siete': 7,\n",
    "        'ocho': 8,\n",
    "        'nueve': 9,\n",
    "        'diez': 10,\n",
    "        'J': 11,\n",
    "        'Q': 12,\n",
    "        'K': 13,\n",
    "        'As':14\n",
    "    }\n",
    "palos =('picas','corazones','treboles','diamantes')\n",
    "rangos =('dos','tres','cuatro','cinco','seis','siete','ocho','nueve','diez','J','Q','K','As')\n",
    "class carta:\n",
    "    def __init__(self,palo,rango):\n",
    "        self.palo = palo\n",
    "        self.rango = rango\n",
    "        self.valor = dic_valores[self.rango]\n",
    "    def __str__(self):\n",
    "        return (self.rango+ ' de ' +self.palo)"
   ]
  },
  {
   "cell_type": "code",
   "execution_count": 7,
   "id": "326d2c31",
   "metadata": {},
   "outputs": [
    {
     "name": "stdout",
     "output_type": "stream",
     "text": [
      "As de picas\n",
      "picas\n",
      "As\n",
      "14\n"
     ]
    }
   ],
   "source": [
    "#Hacemos pruebas instanciamos una carta\n",
    "carta1 = carta('picas','As')\n",
    "print(carta1)\n",
    "print(carta1.palo)\n",
    "print(carta1.rango)\n",
    "print(carta1.valor)"
   ]
  },
  {
   "cell_type": "markdown",
   "id": "c0bcb739",
   "metadata": {},
   "source": [
    "# Ya que funciona nuestra clase carta, procedemos a crear el objeto baraja \n"
   ]
  },
  {
   "cell_type": "code",
   "execution_count": 20,
   "id": "2e861430",
   "metadata": {},
   "outputs": [],
   "source": [
    "class baraja:\n",
    "    def __init__(self):\n",
    "        self.todas_las_cartas = []\n",
    "        for palo in palos:\n",
    "            for rango in rangos:\n",
    "                self.todas_las_cartas.append(carta(palo,rango))\n",
    "    def barajear(self):\n",
    "        random.shuffle(self.todas_las_cartas)\n",
    "    def quita_1(self):\n",
    "        return self.todas_las_cartas.pop()"
   ]
  },
  {
   "cell_type": "code",
   "execution_count": 21,
   "id": "ac4a13e9",
   "metadata": {},
   "outputs": [
    {
     "name": "stdout",
     "output_type": "stream",
     "text": [
      "dos de picas\n",
      "tres de picas\n",
      "cuatro de picas\n",
      "cinco de picas\n",
      "seis de picas\n",
      "siete de picas\n",
      "ocho de picas\n",
      "nueve de picas\n",
      "diez de picas\n",
      "J de picas\n",
      "Q de picas\n",
      "K de picas\n",
      "As de picas\n",
      "dos de corazones\n",
      "tres de corazones\n",
      "cuatro de corazones\n",
      "cinco de corazones\n",
      "seis de corazones\n",
      "siete de corazones\n",
      "ocho de corazones\n",
      "nueve de corazones\n",
      "diez de corazones\n",
      "J de corazones\n",
      "Q de corazones\n",
      "K de corazones\n",
      "As de corazones\n",
      "dos de treboles\n",
      "tres de treboles\n",
      "cuatro de treboles\n",
      "cinco de treboles\n",
      "seis de treboles\n",
      "siete de treboles\n",
      "ocho de treboles\n",
      "nueve de treboles\n",
      "diez de treboles\n",
      "J de treboles\n",
      "Q de treboles\n",
      "K de treboles\n",
      "As de treboles\n",
      "dos de diamantes\n",
      "tres de diamantes\n",
      "cuatro de diamantes\n",
      "cinco de diamantes\n",
      "seis de diamantes\n",
      "siete de diamantes\n",
      "ocho de diamantes\n",
      "nueve de diamantes\n",
      "diez de diamantes\n",
      "J de diamantes\n",
      "Q de diamantes\n",
      "K de diamantes\n",
      "As de diamantes\n"
     ]
    }
   ],
   "source": [
    "baraja1 = baraja()\n",
    "for a in baraja1.todas_las_cartas:\n",
    "    print(a)"
   ]
  },
  {
   "cell_type": "code",
   "execution_count": 22,
   "id": "187bbb63",
   "metadata": {},
   "outputs": [],
   "source": [
    "#comprobamos que funcione el metodo de barajear la baraja \n",
    "baraja1.barajear()"
   ]
  },
  {
   "cell_type": "code",
   "execution_count": 23,
   "id": "2e11727a",
   "metadata": {},
   "outputs": [
    {
     "name": "stdout",
     "output_type": "stream",
     "text": [
      "tres de treboles\n",
      "tres de picas\n",
      "Q de corazones\n",
      "siete de treboles\n",
      "nueve de picas\n",
      "cinco de picas\n",
      "seis de corazones\n",
      "seis de treboles\n",
      "cuatro de treboles\n",
      "ocho de corazones\n",
      "J de picas\n",
      "As de picas\n",
      "siete de diamantes\n",
      "As de treboles\n",
      "siete de corazones\n",
      "ocho de diamantes\n",
      "K de diamantes\n",
      "nueve de corazones\n",
      "dos de corazones\n",
      "J de corazones\n",
      "seis de picas\n",
      "siete de picas\n",
      "K de treboles\n",
      "ocho de treboles\n",
      "Q de treboles\n",
      "cinco de diamantes\n",
      "Q de diamantes\n",
      "As de diamantes\n",
      "diez de corazones\n",
      "tres de corazones\n",
      "dos de picas\n",
      "ocho de picas\n",
      "Q de picas\n",
      "J de diamantes\n",
      "As de corazones\n",
      "cinco de corazones\n",
      "K de picas\n",
      "K de corazones\n",
      "tres de diamantes\n",
      "cuatro de corazones\n",
      "cinco de treboles\n",
      "diez de picas\n",
      "diez de diamantes\n",
      "diez de treboles\n",
      "dos de treboles\n",
      "cuatro de picas\n",
      "seis de diamantes\n",
      "nueve de diamantes\n",
      "nueve de treboles\n",
      "dos de diamantes\n",
      "cuatro de diamantes\n",
      "J de treboles\n"
     ]
    }
   ],
   "source": [
    "for a in baraja1.todas_las_cartas:\n",
    "    print(a)"
   ]
  },
  {
   "cell_type": "code",
   "execution_count": null,
   "id": "048f5f96",
   "metadata": {},
   "outputs": [],
   "source": []
  }
 ],
 "metadata": {
  "kernelspec": {
   "display_name": "Python 3 (ipykernel)",
   "language": "python",
   "name": "python3"
  },
  "language_info": {
   "codemirror_mode": {
    "name": "ipython",
    "version": 3
   },
   "file_extension": ".py",
   "mimetype": "text/x-python",
   "name": "python",
   "nbconvert_exporter": "python",
   "pygments_lexer": "ipython3",
   "version": "3.10.9"
  }
 },
 "nbformat": 4,
 "nbformat_minor": 5
}
