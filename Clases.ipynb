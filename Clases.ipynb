{
 "cells": [
  {
   "cell_type": "markdown",
   "id": "db0cb230",
   "metadata": {},
   "source": [
    "# Inicio del deck de cartas con las clases\n",
    "carta: tiene palo, rango, valor\n"
   ]
  },
  {
   "cell_type": "code",
   "execution_count": null,
   "id": "42e6f1f1",
   "metadata": {},
   "outputs": [],
   "source": [
    "class carta:\n",
    "    def __init__(self,palo,rango):\n",
    "        self.palo = palo\n",
    "        self.rango = rango\n",
    "    def __str__(self):\n",
    "        return (self.rank+ 'de' +self.palo)"
   ]
  }
 ],
 "metadata": {
  "kernelspec": {
   "display_name": "Python 3 (ipykernel)",
   "language": "python",
   "name": "python3"
  },
  "language_info": {
   "codemirror_mode": {
    "name": "ipython",
    "version": 3
   },
   "file_extension": ".py",
   "mimetype": "text/x-python",
   "name": "python",
   "nbconvert_exporter": "python",
   "pygments_lexer": "ipython3",
   "version": "3.10.9"
  }
 },
 "nbformat": 4,
 "nbformat_minor": 5
}
