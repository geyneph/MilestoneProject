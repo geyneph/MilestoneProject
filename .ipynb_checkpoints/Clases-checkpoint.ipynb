{
 "cells": [
  {
   "cell_type": "markdown",
   "id": "db0cb230",
   "metadata": {},
   "source": [
    "# Inicio del deck de cartas con las clases\n",
    "carta: tiene palo, rango, valor\n"
   ]
  },
  {
   "cell_type": "code",
   "execution_count": 36,
   "id": "42e6f1f1",
   "metadata": {},
   "outputs": [],
   "source": [
    "#Iniciaremos desarrollando la clase carta, para posterirmente desarrollar la clase baraja\n",
    "dic_valores ={\n",
    "        'dos': 2,\n",
    "        'tres': 3,\n",
    "        'cuatro': 4,\n",
    "        'cinco': 5,\n",
    "        'seis': 6,\n",
    "        'siete': 7,\n",
    "        'ocho': 8,\n",
    "        'nueve': 9,\n",
    "        'diez': 10,\n",
    "        'J': 11,\n",
    "        'Q': 12,\n",
    "        'K': 13,\n",
    "        'As':14\n",
    "    }\n",
    "palos =('picas','corazones','treboles','diamantes')\n",
    "rangos =('dos','tres','cuatro','cinco','seis','siete','ocho','nueve','diez','J','Q','K','AS')\n",
    "class carta:\n",
    "    def __init__(self,palo,rango):\n",
    "        self.palo = palo\n",
    "        self.rango = rango\n",
    "        self.valor = dic_valores[self.rango]\n",
    "    def __str__(self):\n",
    "        return (self.rango+ ' de ' +self.palo)"
   ]
  },
  {
   "cell_type": "code",
   "execution_count": 37,
   "id": "4fb9a352",
   "metadata": {},
   "outputs": [
    {
     "name": "stdout",
     "output_type": "stream",
     "text": [
      "As de picas\n",
      "picas\n",
      "As\n",
      "14\n"
     ]
    }
   ],
   "source": [
    "#Hacemos pruebas instanciamos una carta\n",
    "carta1 = carta('picas','As')\n",
    "print(carta1)\n",
    "print(carta1.palo)\n",
    "print(carta1.rango)\n",
    "print(carta1.valor)"
   ]
  },
  {
   "cell_type": "markdown",
   "id": "1f0ff63a",
   "metadata": {},
   "source": [
    "# Ya que funciona nuestra clase carta, procedemos a crear el objeto baraja \n"
   ]
  },
  {
   "cell_type": "code",
   "execution_count": 38,
   "id": "5b6b266e",
   "metadata": {},
   "outputs": [],
   "source": [
    "class baraja:\n",
    "    def __init__(self):\n",
    "        self.todas_las_cartas = []\n",
    "        for palo in palos:\n",
    "            for rango in rangos:\n",
    "                self.todas_las_cartas.append(carta(palo,rango))"
   ]
  },
  {
   "cell_type": "code",
   "execution_count": 39,
   "id": "c88929ce",
   "metadata": {},
   "outputs": [],
   "source": []
  },
  {
   "cell_type": "code",
   "execution_count": 40,
   "id": "eb1a2b0d",
   "metadata": {},
   "outputs": [
    {
     "ename": "AttributeError",
     "evalue": "type object 'baraja' has no attribute 'todas_las_cartas'",
     "output_type": "error",
     "traceback": [
      "\u001b[0;31m---------------------------------------------------------------------------\u001b[0m",
      "\u001b[0;31mAttributeError\u001b[0m                            Traceback (most recent call last)",
      "Cell \u001b[0;32mIn[40], line 1\u001b[0m\n\u001b[0;32m----> 1\u001b[0m cartadehastaarriba \u001b[38;5;241m=\u001b[39m \u001b[43mbaraja1\u001b[49m\u001b[38;5;241;43m.\u001b[39;49m\u001b[43mtodas_las_cartas\u001b[49m\n",
      "\u001b[0;31mAttributeError\u001b[0m: type object 'baraja' has no attribute 'todas_las_cartas'"
     ]
    }
   ],
   "source": []
  },
  {
   "cell_type": "code",
   "execution_count": null,
   "id": "2d9ba0b8",
   "metadata": {},
   "outputs": [],
   "source": []
  }
 ],
 "metadata": {
  "kernelspec": {
   "display_name": "Python 3 (ipykernel)",
   "language": "python",
   "name": "python3"
  },
  "language_info": {
   "codemirror_mode": {
    "name": "ipython",
    "version": 3
   },
   "file_extension": ".py",
   "mimetype": "text/x-python",
   "name": "python",
   "nbconvert_exporter": "python",
   "pygments_lexer": "ipython3",
   "version": "3.10.9"
  }
 },
 "nbformat": 4,
 "nbformat_minor": 5
}
