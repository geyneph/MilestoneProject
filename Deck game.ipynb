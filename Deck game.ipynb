{
 "cells": [
  {
   "cell_type": "markdown",
   "id": "db0cb230",
   "metadata": {},
   "source": [
    "# Inicio del deck de cartas con las clases\n",
    "carta: tiene palo, rango, valor\n"
   ]
  },
  {
   "cell_type": "code",
   "execution_count": 1,
   "id": "42e6f1f1",
   "metadata": {},
   "outputs": [],
   "source": [
    "#importamos librerias\n",
    "import random\n",
    "#Iniciaremos desarrollando la clase carta, para posterirmente desarrollar la clase baraja\n",
    "dic_valores ={\n",
    "        'dos': 2,\n",
    "        'tres': 3,\n",
    "        'cuatro': 4,\n",
    "        'cinco': 5,\n",
    "        'seis': 6,\n",
    "        'siete': 7,\n",
    "        'ocho': 8,\n",
    "        'nueve': 9,\n",
    "        'diez': 10,\n",
    "        'J': 11,\n",
    "        'Q': 12,\n",
    "        'K': 13,\n",
    "        'As':14\n",
    "    }\n",
    "palos =('picas','corazones','treboles','diamantes')\n",
    "rangos =('dos','tres','cuatro','cinco','seis','siete','ocho','nueve','diez','J','Q','K','As')\n",
    "class carta:\n",
    "    def __init__(self,palo,rango):\n",
    "        self.palo = palo\n",
    "        self.rango = rango\n",
    "        self.valor = dic_valores[self.rango]\n",
    "    def __str__(self):\n",
    "        return (self.rango+ ' de ' +self.palo)"
   ]
  },
  {
   "cell_type": "code",
   "execution_count": 2,
   "id": "7515f380",
   "metadata": {},
   "outputs": [
    {
     "name": "stdout",
     "output_type": "stream",
     "text": [
      "As de picas\n",
      "picas\n",
      "As\n",
      "14\n"
     ]
    }
   ],
   "source": [
    "#Hacemos pruebas instanciamos una carta\n",
    "carta1 = carta('picas','As')\n",
    "print(carta1)\n",
    "print(carta1.palo)\n",
    "print(carta1.rango)\n",
    "print(carta1.valor)"
   ]
  },
  {
   "cell_type": "markdown",
   "id": "0a04baa3",
   "metadata": {},
   "source": [
    "# Ya que funciona nuestra clase carta, procedemos a crear el objeto baraja \n"
   ]
  },
  {
   "cell_type": "code",
   "execution_count": 3,
   "id": "7ede7fc1",
   "metadata": {},
   "outputs": [],
   "source": [
    "class baraja:\n",
    "    def __init__(self):\n",
    "        self.todas_las_cartas = []\n",
    "        for palo in palos:\n",
    "            for rango in rangos:\n",
    "                self.todas_las_cartas.append(carta(palo,rango))\n",
    "    def barajear(self):\n",
    "        random.shuffle(self.todas_las_cartas)\n",
    "    def quita_1(self):\n",
    "        return self.todas_las_cartas.pop()"
   ]
  },
  {
   "cell_type": "code",
   "execution_count": 4,
   "id": "347d61f9",
   "metadata": {},
   "outputs": [
    {
     "name": "stdout",
     "output_type": "stream",
     "text": [
      "dos de picas\n",
      "tres de picas\n",
      "cuatro de picas\n",
      "cinco de picas\n",
      "seis de picas\n",
      "siete de picas\n",
      "ocho de picas\n",
      "nueve de picas\n",
      "diez de picas\n",
      "J de picas\n",
      "Q de picas\n",
      "K de picas\n",
      "As de picas\n",
      "dos de corazones\n",
      "tres de corazones\n",
      "cuatro de corazones\n",
      "cinco de corazones\n",
      "seis de corazones\n",
      "siete de corazones\n",
      "ocho de corazones\n",
      "nueve de corazones\n",
      "diez de corazones\n",
      "J de corazones\n",
      "Q de corazones\n",
      "K de corazones\n",
      "As de corazones\n",
      "dos de treboles\n",
      "tres de treboles\n",
      "cuatro de treboles\n",
      "cinco de treboles\n",
      "seis de treboles\n",
      "siete de treboles\n",
      "ocho de treboles\n",
      "nueve de treboles\n",
      "diez de treboles\n",
      "J de treboles\n",
      "Q de treboles\n",
      "K de treboles\n",
      "As de treboles\n",
      "dos de diamantes\n",
      "tres de diamantes\n",
      "cuatro de diamantes\n",
      "cinco de diamantes\n",
      "seis de diamantes\n",
      "siete de diamantes\n",
      "ocho de diamantes\n",
      "nueve de diamantes\n",
      "diez de diamantes\n",
      "J de diamantes\n",
      "Q de diamantes\n",
      "K de diamantes\n",
      "As de diamantes\n"
     ]
    }
   ],
   "source": [
    "baraja1 = baraja()\n",
    "for a in baraja1.todas_las_cartas:\n",
    "    print(a)"
   ]
  },
  {
   "cell_type": "code",
   "execution_count": 5,
   "id": "cfeb0483",
   "metadata": {},
   "outputs": [],
   "source": [
    "#comprobamos que funcione el metodo de barajear la baraja \n",
    "baraja1.barajear()"
   ]
  },
  {
   "cell_type": "code",
   "execution_count": 6,
   "id": "4542e469",
   "metadata": {},
   "outputs": [
    {
     "name": "stdout",
     "output_type": "stream",
     "text": [
      "siete de diamantes\n",
      "seis de picas\n",
      "ocho de picas\n",
      "dos de diamantes\n",
      "cinco de treboles\n",
      "nueve de corazones\n",
      "tres de picas\n",
      "As de corazones\n",
      "cuatro de treboles\n",
      "J de diamantes\n",
      "nueve de picas\n",
      "J de treboles\n",
      "dos de picas\n",
      "siete de corazones\n",
      "nueve de diamantes\n",
      "As de treboles\n",
      "ocho de treboles\n",
      "Q de picas\n",
      "cinco de diamantes\n",
      "diez de treboles\n",
      "dos de corazones\n",
      "tres de treboles\n",
      "Q de diamantes\n",
      "siete de picas\n",
      "Q de corazones\n",
      "ocho de diamantes\n",
      "Q de treboles\n",
      "tres de corazones\n",
      "As de diamantes\n",
      "seis de diamantes\n",
      "K de diamantes\n",
      "cinco de picas\n",
      "J de picas\n",
      "As de picas\n",
      "cinco de corazones\n",
      "tres de diamantes\n",
      "cuatro de picas\n",
      "diez de corazones\n",
      "K de picas\n",
      "ocho de corazones\n",
      "cuatro de diamantes\n",
      "diez de picas\n",
      "seis de treboles\n",
      "J de corazones\n",
      "K de treboles\n",
      "seis de corazones\n",
      "dos de treboles\n",
      "cuatro de corazones\n",
      "nueve de treboles\n",
      "K de corazones\n",
      "siete de treboles\n",
      "diez de diamantes\n"
     ]
    }
   ],
   "source": [
    "for a in baraja1.todas_las_cartas:\n",
    "    print(a)"
   ]
  },
  {
   "cell_type": "markdown",
   "id": "37a83595",
   "metadata": {},
   "source": [
    "# Creacion de la clase JUGADOR\n",
    "aqui procederemos a diseñar la clase jugador, esta se encargara de retirar cartas de su mazo y adicionar cartas a su mazo\n"
   ]
  },
  {
   "cell_type": "code",
   "execution_count": 7,
   "id": "8d30e156",
   "metadata": {},
   "outputs": [],
   "source": [
    "class jugador:\n",
    "    def __init__(self,name):\n",
    "        self.mazo_De_jugador = []\n",
    "        self.name = name\n",
    "        \n",
    "    def retirar(self):\n",
    "        return self.mazo_De_jugador.pop(0)\n",
    "    \n",
    "    def agregar(self,nuevas_Cartas):\n",
    "        if type(nuevas_Cartas) == type([]):\n",
    "            self.mazo_De_jugador.extend(nuevas_Cartas)\n",
    "        else:\n",
    "            self.mazo_De_jugador.append(nuevas_Cartas)\n",
    "    \n",
    "    \n",
    "    def __str__(self):\n",
    "        return f' el mazo del jugador: {self.name} tiene en total: {len(self.mazo_De_jugador)}'"
   ]
  },
  {
   "cell_type": "markdown",
   "id": "49e0af9e",
   "metadata": {},
   "source": [
    "# logica del juego\n"
   ]
  },
  {
   "cell_type": "code",
   "execution_count": 14,
   "id": "aeabb7ee",
   "metadata": {},
   "outputs": [
    {
     "name": "stdout",
     "output_type": "stream",
     "text": [
      " el mazo del jugador: jugador1 tiene en total: 26\n",
      " el mazo del jugador: jugador2 tiene en total: 26\n"
     ]
    }
   ],
   "source": [
    "#instanciamos a los 2 jugadores y una nueva baraja y barajeamos\n",
    "jugador1 = jugador('jugador1')\n",
    "jugador2= jugador('jugador2')\n",
    "baraja1 = baraja()\n",
    "baraja1.barajear()\n",
    "#repartimos la baraja en partes iguales \n",
    "for x in range(26):\n",
    "    jugador1.agregar(baraja1.quita_1())\n",
    "    jugador2.agregar(baraja1.quita_1())\n",
    "        \n",
    "print(jugador1)\n",
    "print(jugador2)"
   ]
  },
  {
   "cell_type": "code",
   "execution_count": 17,
   "id": "b33e29ab",
   "metadata": {},
   "outputs": [
    {
     "name": "stdout",
     "output_type": "stream",
     "text": [
      "ocho de treboles\n",
      "diez de diamantes\n",
      "K de picas\n",
      "seis de corazones\n",
      "Q de diamantes\n",
      "dos de corazones\n",
      "K de diamantes\n",
      "siete de corazones\n",
      "dos de picas\n",
      "J de picas\n",
      "ocho de diamantes\n",
      "dos de treboles\n",
      "nueve de corazones\n",
      "cuatro de corazones\n",
      "J de diamantes\n",
      "tres de corazones\n",
      "seis de picas\n",
      "siete de treboles\n",
      "diez de corazones\n",
      "ocho de corazones\n",
      "tres de diamantes\n",
      "J de corazones\n",
      "Q de treboles\n",
      "diez de treboles\n",
      "As de treboles\n",
      "seis de diamantes\n"
     ]
    }
   ],
   "source": [
    "for a in jugador1.mazo_De_jugador:\n",
    "    print(a)"
   ]
  },
  {
   "cell_type": "code",
   "execution_count": 18,
   "id": "0fb02e58",
   "metadata": {},
   "outputs": [
    {
     "name": "stdout",
     "output_type": "stream",
     "text": [
      "cinco de corazones\n",
      "nueve de treboles\n",
      "tres de picas\n",
      "cuatro de picas\n",
      "cinco de diamantes\n",
      "As de diamantes\n",
      "Q de picas\n",
      "tres de treboles\n",
      "siete de diamantes\n",
      "cinco de treboles\n",
      "cuatro de treboles\n",
      "seis de treboles\n",
      "K de corazones\n",
      "nueve de picas\n",
      "nueve de diamantes\n",
      "siete de picas\n",
      "As de picas\n",
      "As de corazones\n",
      "cuatro de diamantes\n",
      "ocho de picas\n",
      "dos de diamantes\n",
      "K de treboles\n",
      "cinco de picas\n",
      "Q de corazones\n",
      "J de treboles\n",
      "diez de picas\n"
     ]
    }
   ],
   "source": [
    "for b in jugador2.mazo_De_jugador:\n",
    "    print(b)"
   ]
  },
  {
   "cell_type": "markdown",
   "id": "7ab6790f",
   "metadata": {},
   "source": [
    "# Ahora que cada jugador tiene sus dos mazos con sus cartas barajedadas procedemos a comenzar el juego\n"
   ]
  },
  {
   "cell_type": "code",
   "execution_count": null,
   "id": "906bfd2a",
   "metadata": {},
   "outputs": [],
   "source": [
    "game_on = True\n",
    "numero_De_ronda = 0\n",
    "while game_on == True:\n",
    "    numero_De_ronda+=1\n",
    "    print(numero_De_ronda)\n",
    "    \n",
    "    "
   ]
  }
 ],
 "metadata": {
  "kernelspec": {
   "display_name": "Python 3 (ipykernel)",
   "language": "python",
   "name": "python3"
  },
  "language_info": {
   "codemirror_mode": {
    "name": "ipython",
    "version": 3
   },
   "file_extension": ".py",
   "mimetype": "text/x-python",
   "name": "python",
   "nbconvert_exporter": "python",
   "pygments_lexer": "ipython3",
   "version": "3.10.9"
  }
 },
 "nbformat": 4,
 "nbformat_minor": 5
}
